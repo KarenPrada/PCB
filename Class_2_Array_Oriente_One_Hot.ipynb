{
  "nbformat": 4,
  "nbformat_minor": 0,
  "metadata": {
    "colab": {
      "provenance": []
    },
    "kernelspec": {
      "name": "python3",
      "display_name": "Python 3"
    },
    "language_info": {
      "name": "python"
    }
  },
  "cells": [
    {
      "cell_type": "markdown",
      "source": [
        "Create a function that allows to encode data into a One hot encoding:\n",
        "\n",
        "The function receive a Y data vector with categorical data (0,1,2,3, ...) and return a One hot encoding X_one_hot.\n",
        "\n",
        "Example:\n",
        "\n",
        "Given: $$Y = [\\color{Blue}0 \\ 1 \\ \\color{Red}2 \\ 2 \\ \\color{Magenta}3 \\ 0]$$\n",
        "\n",
        "Return:\n",
        " $$ Y\\_one\\_hot  = \\begin{bmatrix}\n",
        "\\color{Blue}1 & 0 & \\color{Red}0 & 0 & \\color{Magenta}0 & 1\\\\\n",
        "\\color{Blue}0 & 1 & \\color{Red}0 & 0 & \\color{Magenta}0 & 0\\\\\n",
        "\\color{Blue}0 & 0 & \\color{Red}1 & 1 & \\color{Magenta}0 & 0\\\\\n",
        "\\color{Blue}0 & 0 & \\color{Red}0 & 0 & \\color{Magenta}1 & 0\n",
        "\\end{bmatrix}$$"
      ],
      "metadata": {
        "id": "eLFWEPkbCzGQ"
      }
    },
    {
      "cell_type": "code",
      "execution_count": 1,
      "metadata": {
        "id": "6b-eIwIv0T6I"
      },
      "outputs": [],
      "source": [
        "import numpy as np\n",
        "from numpy import random"
      ]
    },
    {
      "cell_type": "code",
      "source": [
        "#Creating some sintetic data\n",
        "random.seed(12)  # to get the same random number for review purposes\n",
        "N = 6  # amount of data\n",
        "nun_class = 5  # number of classes\n",
        "Y = random.randint(0,nun_class-1,size=(N))\n",
        "print(\"Y = \", Y)"
      ],
      "metadata": {
        "colab": {
          "base_uri": "https://localhost:8080/"
        },
        "id": "v0Dtmrji0bx_",
        "outputId": "68d16853-2f37-4300-b0ab-6dcfd08b35af"
      },
      "execution_count": 9,
      "outputs": [
        {
          "output_type": "stream",
          "name": "stdout",
          "text": [
            "Y =  [3 3 2 1 1 2]\n"
          ]
        }
      ]
    },
    {
      "cell_type": "markdown",
      "source": [
        "Expected result:\n",
        "\n",
        "$$Y\\_one\\_hot = \\begin{bmatrix}\n",
        " 0. & 0. & 0. & 0. & 0. & 0. \\\\\n",
        " 0. & 0. &0. &1. &1. &0. \\\\\n",
        " 0. &0. &1. &0. &0. &1. \\\\\n",
        " 1. &1. &0. &0. &0. &0. \\\\\n",
        " 0. &0. &0. &0. &0. &0.\\end{bmatrix}$$\n"
      ],
      "metadata": {
        "id": "xrQezV_HhqQb"
      }
    }
  ]
}